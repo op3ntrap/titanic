{
 "cells": [
  {
   "cell_type": "code",
   "execution_count": 1,
   "metadata": {
    "collapsed": true
   },
   "outputs": [],
   "source": [
    "import pandas as pd\n",
    "import joblib\n"
   ]
  },
  {
   "cell_type": "code",
   "execution_count": 6,
   "outputs": [],
   "source": [
    "path = 'C:/Users/risan/PycharmProjects/scientificProject/outputs'\n",
    "# x_train = joblib.load(path+'/train_age')\n",
    "# y_train = joblib.load(path+'/y_train')\n",
    "# x_test = joblib.load(path+'/x_test')\n",
    "# y_test = joblib.load(path+'/y_test')\n",
    "train = joblib.load(path+'/master_training_data')"
   ],
   "metadata": {
    "collapsed": false,
    "pycharm": {
     "name": "#%%\n"
    }
   }
  },
  {
   "cell_type": "code",
   "execution_count": 7,
   "outputs": [
    {
     "data": {
      "text/plain": "             Pclass                                             Name     Sex  \\\nPassengerId                                                                    \n6                 3                                 moran, mr. james    male   \n18                2                     williams, mr. charles eugene    male   \n20                3                          masselmani, mrs. fatima  female   \n27                3                          emir, mr. farred chehab    male   \n29                3                    o'dwyer, miss. ellen \"nellie\"  female   \n...             ...                                              ...     ...   \n1301              3                        peacock, miss. treasteall  female   \n1303              1  minahan, mrs. william edward (lillian e thorpe)  female   \n1304              3                   henriksson, miss. jenny lovisa  female   \n1306              1                     oliva y ocana, dona. fermina  female   \n1307              3                     saether, mr. simon sivertsen    male   \n\n              Age  SibSp  Parch              Ticket      Fare Cabin Embarked  \\\nPassengerId                                                                    \n6             NaN      0      0              330877    8.4583   NaN        S   \n18            NaN      0      0              244373   13.0000   NaN        S   \n20            NaN      0      0                2649    7.2250   NaN        S   \n27            NaN      0      0                2631    7.2250   NaN        S   \n29            NaN      0      0              330959    7.8792   NaN        S   \n...           ...    ...    ...                 ...       ...   ...      ...   \n1301          3.0      1      1  SOTON/O.Q. 3101315   13.7750   NaN        S   \n1303         37.0      1      0               19928   90.0000   C78        Q   \n1304         28.0      0      0              347086    7.7750   NaN        S   \n1306         39.0      0      0            PC 17758  108.9000  C105        C   \n1307         38.5      0      0  SOTON/O.Q. 3101262    7.2500   NaN        S   \n\n            salutation  has_relatives  Age_Bin  \nPassengerId                                     \n6                   MR              0      5.0  \n18                  MR              0      5.0  \n20                 MRS              0      5.0  \n27                  MR              0      5.0  \n29                MISS              0      5.0  \n...                ...            ...      ...  \n1301              MISS              1      NaN  \n1303               MRS              0      NaN  \n1304              MISS              0      NaN  \n1306                NA              0      NaN  \n1307                MR              0      NaN  \n\n[1309 rows x 13 columns]",
      "text/html": "<div>\n<style scoped>\n    .dataframe tbody tr th:only-of-type {\n        vertical-align: middle;\n    }\n\n    .dataframe tbody tr th {\n        vertical-align: top;\n    }\n\n    .dataframe thead th {\n        text-align: right;\n    }\n</style>\n<table border=\"1\" class=\"dataframe\">\n  <thead>\n    <tr style=\"text-align: right;\">\n      <th></th>\n      <th>Pclass</th>\n      <th>Name</th>\n      <th>Sex</th>\n      <th>Age</th>\n      <th>SibSp</th>\n      <th>Parch</th>\n      <th>Ticket</th>\n      <th>Fare</th>\n      <th>Cabin</th>\n      <th>Embarked</th>\n      <th>salutation</th>\n      <th>has_relatives</th>\n      <th>Age_Bin</th>\n    </tr>\n    <tr>\n      <th>PassengerId</th>\n      <th></th>\n      <th></th>\n      <th></th>\n      <th></th>\n      <th></th>\n      <th></th>\n      <th></th>\n      <th></th>\n      <th></th>\n      <th></th>\n      <th></th>\n      <th></th>\n      <th></th>\n    </tr>\n  </thead>\n  <tbody>\n    <tr>\n      <th>6</th>\n      <td>3</td>\n      <td>moran, mr. james</td>\n      <td>male</td>\n      <td>NaN</td>\n      <td>0</td>\n      <td>0</td>\n      <td>330877</td>\n      <td>8.4583</td>\n      <td>NaN</td>\n      <td>S</td>\n      <td>MR</td>\n      <td>0</td>\n      <td>5.0</td>\n    </tr>\n    <tr>\n      <th>18</th>\n      <td>2</td>\n      <td>williams, mr. charles eugene</td>\n      <td>male</td>\n      <td>NaN</td>\n      <td>0</td>\n      <td>0</td>\n      <td>244373</td>\n      <td>13.0000</td>\n      <td>NaN</td>\n      <td>S</td>\n      <td>MR</td>\n      <td>0</td>\n      <td>5.0</td>\n    </tr>\n    <tr>\n      <th>20</th>\n      <td>3</td>\n      <td>masselmani, mrs. fatima</td>\n      <td>female</td>\n      <td>NaN</td>\n      <td>0</td>\n      <td>0</td>\n      <td>2649</td>\n      <td>7.2250</td>\n      <td>NaN</td>\n      <td>S</td>\n      <td>MRS</td>\n      <td>0</td>\n      <td>5.0</td>\n    </tr>\n    <tr>\n      <th>27</th>\n      <td>3</td>\n      <td>emir, mr. farred chehab</td>\n      <td>male</td>\n      <td>NaN</td>\n      <td>0</td>\n      <td>0</td>\n      <td>2631</td>\n      <td>7.2250</td>\n      <td>NaN</td>\n      <td>S</td>\n      <td>MR</td>\n      <td>0</td>\n      <td>5.0</td>\n    </tr>\n    <tr>\n      <th>29</th>\n      <td>3</td>\n      <td>o'dwyer, miss. ellen \"nellie\"</td>\n      <td>female</td>\n      <td>NaN</td>\n      <td>0</td>\n      <td>0</td>\n      <td>330959</td>\n      <td>7.8792</td>\n      <td>NaN</td>\n      <td>S</td>\n      <td>MISS</td>\n      <td>0</td>\n      <td>5.0</td>\n    </tr>\n    <tr>\n      <th>...</th>\n      <td>...</td>\n      <td>...</td>\n      <td>...</td>\n      <td>...</td>\n      <td>...</td>\n      <td>...</td>\n      <td>...</td>\n      <td>...</td>\n      <td>...</td>\n      <td>...</td>\n      <td>...</td>\n      <td>...</td>\n      <td>...</td>\n    </tr>\n    <tr>\n      <th>1301</th>\n      <td>3</td>\n      <td>peacock, miss. treasteall</td>\n      <td>female</td>\n      <td>3.0</td>\n      <td>1</td>\n      <td>1</td>\n      <td>SOTON/O.Q. 3101315</td>\n      <td>13.7750</td>\n      <td>NaN</td>\n      <td>S</td>\n      <td>MISS</td>\n      <td>1</td>\n      <td>NaN</td>\n    </tr>\n    <tr>\n      <th>1303</th>\n      <td>1</td>\n      <td>minahan, mrs. william edward (lillian e thorpe)</td>\n      <td>female</td>\n      <td>37.0</td>\n      <td>1</td>\n      <td>0</td>\n      <td>19928</td>\n      <td>90.0000</td>\n      <td>C78</td>\n      <td>Q</td>\n      <td>MRS</td>\n      <td>0</td>\n      <td>NaN</td>\n    </tr>\n    <tr>\n      <th>1304</th>\n      <td>3</td>\n      <td>henriksson, miss. jenny lovisa</td>\n      <td>female</td>\n      <td>28.0</td>\n      <td>0</td>\n      <td>0</td>\n      <td>347086</td>\n      <td>7.7750</td>\n      <td>NaN</td>\n      <td>S</td>\n      <td>MISS</td>\n      <td>0</td>\n      <td>NaN</td>\n    </tr>\n    <tr>\n      <th>1306</th>\n      <td>1</td>\n      <td>oliva y ocana, dona. fermina</td>\n      <td>female</td>\n      <td>39.0</td>\n      <td>0</td>\n      <td>0</td>\n      <td>PC 17758</td>\n      <td>108.9000</td>\n      <td>C105</td>\n      <td>C</td>\n      <td>NA</td>\n      <td>0</td>\n      <td>NaN</td>\n    </tr>\n    <tr>\n      <th>1307</th>\n      <td>3</td>\n      <td>saether, mr. simon sivertsen</td>\n      <td>male</td>\n      <td>38.5</td>\n      <td>0</td>\n      <td>0</td>\n      <td>SOTON/O.Q. 3101262</td>\n      <td>7.2500</td>\n      <td>NaN</td>\n      <td>S</td>\n      <td>MR</td>\n      <td>0</td>\n      <td>NaN</td>\n    </tr>\n  </tbody>\n</table>\n<p>1309 rows × 13 columns</p>\n</div>"
     },
     "execution_count": 7,
     "metadata": {},
     "output_type": "execute_result"
    }
   ],
   "source": [
    "train\n"
   ],
   "metadata": {
    "collapsed": false,
    "pycharm": {
     "name": "#%%\n"
    }
   }
  },
  {
   "cell_type": "code",
   "execution_count": null,
   "outputs": [],
   "source": [],
   "metadata": {
    "collapsed": false,
    "pycharm": {
     "name": "#%%\n"
    }
   }
  }
 ],
 "metadata": {
  "kernelspec": {
   "display_name": "Python 3",
   "language": "python",
   "name": "python3"
  },
  "language_info": {
   "codemirror_mode": {
    "name": "ipython",
    "version": 2
   },
   "file_extension": ".py",
   "mimetype": "text/x-python",
   "name": "python",
   "nbconvert_exporter": "python",
   "pygments_lexer": "ipython2",
   "version": "2.7.6"
  }
 },
 "nbformat": 4,
 "nbformat_minor": 0
}