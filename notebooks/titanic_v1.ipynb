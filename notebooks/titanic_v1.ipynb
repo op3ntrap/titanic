{
 "cells": [
  {
   "cell_type": "code",
   "execution_count": 1,
   "id": "4e67e323-8d00-4e0b-82d2-82e4c4fe8b22",
   "metadata": {},
   "outputs": [
    {
     "name": "stderr",
     "output_type": "stream",
     "text": [
      "Intel(R) Extension for Scikit-learn* enabled (https://github.com/intel/scikit-learn-intelex)\n"
     ]
    }
   ],
   "source": [
    "import numpy as np\n",
    "import pandas as pd\n",
    "from sklearnex import patch_sklearn\n",
    "\n",
    "patch_sklearn()"
   ]
  },
  {
   "cell_type": "code",
   "execution_count": 72,
   "id": "b23bca98-8eb5-4eaf-ad27-488762e2b949",
   "metadata": {},
   "outputs": [],
   "source": [
    "from sklearn.model_selection import train_test_split, cross_validate, RandomizedSearchCV, GridSearchCV, ShuffleSplit\n",
    "from sklearn.model_selection import StratifiedShuffleSplit\n",
    "from sklearn.pipeline import Pipeline\n",
    "from sklearn.tree import DecisionTreeRegressor, DecisionTreeClassifier\n",
    "from sklearn.ensemble import RandomForestClassifier, RandomForestRegressor, GradientBoostingClassifier\n",
    "from sklearn.preprocessing import StandardScaler, LabelEncoder, OneHotEncoder, OrdinalEncoder, add_dummy_feature\n",
    "from sklearn.preprocessing import KBinsDiscretizer\n",
    "from sklearn.compose import ColumnTransformer\n",
    "from sklearn.metrics import mean_squared_error, mean_absolute_error\n",
    "from sklearn.impute import SimpleImputer, KNNImputer\n",
    "from dataclasses import dataclass\n",
    "from sklearn.neural_network import MLPClassifier\n",
    "from sklearn.metrics import confusion_matrix, ConfusionMatrixDisplay\n",
    "from sklearn.metrics import mean_absolute_error, precision_recall_fscore_support, precision_score\n",
    "import joblib"
   ]
  },
  {
   "cell_type": "code",
   "execution_count": 73,
   "id": "3256cc87-6237-4125-aa06-71756994e533",
   "metadata": {},
   "outputs": [
    {
     "data": {
      "text/plain": "'Successfully'"
     },
     "execution_count": 73,
     "metadata": {},
     "output_type": "execute_result"
    }
   ],
   "source": [
    "def val_dump(clf, x_train, x_test, y_train, y_test):\n",
    "    joblib.dump(clf, 'C:/Users/risan/PycharmProjects/scientificProject/outputs/age__classifier')\n",
    "    joblib.dump(x_train, 'C:/Users/risan/PycharmProjects/scientificProject/outputs/train_age')\n",
    "    joblib.dump(x_test, 'C:/Users/risan/PycharmProjects/scientificProject/outputs/x_test')\n",
    "    joblib.dump(y_train, 'C:/Users/risan/PycharmProjects/scientificProject/outputs/y_train')\n",
    "    joblib.dump(y_test, 'C:/Users/risan/PycharmProjects/scientificProject/outputs/y_test')\n",
    "\n",
    "\n",
    "@dataclass\n",
    "class DataObject(object):\n",
    "    @staticmethod\n",
    "    def find_salutation(row):\n",
    "        if 'mr.' in row.Name:\n",
    "            row.salutation = \"MR\"\n",
    "        elif 'dr.' in row.Name:\n",
    "            row.salutation = \"DR\"\n",
    "        elif 'mrs.' in row.Name:\n",
    "            row.salutation = \"MRS\"\n",
    "        elif 'miss.' in row.Name:\n",
    "            row.salutation = \"MISS\"\n",
    "        elif 'master.' in row.Name:\n",
    "            row.salutation = \"MASTER\"\n",
    "        else:\n",
    "            row.salutation = 'NA'\n",
    "        return row\n",
    "\n",
    "    @staticmethod\n",
    "    def has_relatives(row):\n",
    "        if row.SibSp + row.Parch > 1:\n",
    "            row.has_relatives = 1\n",
    "        else:\n",
    "            row.has_relatives = 0\n",
    "        return row\n",
    "\n",
    "    training_data_path = 'C:/Users/risan/PycharmProjects/scientificProject/data/Kaggle/titanic/train.csv'\n",
    "    test_data_path = 'C:/Users/risan/PycharmProjects/scientificProject/data/Kaggle/titanic/test.csv'\n",
    "    training_data = pd.read_csv(training_data_path, index_col=0, header='infer')\n",
    "    test_data = pd.read_csv(test_data_path, index_col=0, header='infer')\n",
    "    x_train: pd.DataFrame = training_data.drop(['Survived'], axis=1)\n",
    "    y_train: pd.Series = training_data['Survived']\n",
    "    x_train.Name = x_train['Name'].map(lambda i: i.lower())\n",
    "    test_data.Name = test_data['Name'].map(lambda i: i.lower())\n",
    "    # test_data.Name = test_data['Name'].map(lambda i: i.lower())\n",
    "    # x_train.sort_values(by=['Name'], inplace=True)\n",
    "\n",
    "    x_train['salutation'] = None\n",
    "    x_train['has_relatives'] = 0\n",
    "    test_data['salutation'] = None\n",
    "    test_data['has_relatives'] = 0\n",
    "    si_ = SimpleImputer(strategy='most_frequent')\n",
    "    origins = x_train.Embarked\n",
    "    origins_arr = np.array(origins).reshape(-1, 1)\n",
    "    filled_origins = si_.fit_transform(origins_arr)\n",
    "    x_train.Embarked = pd.Series(filled_origins.reshape(1, -1)[0])\n",
    "    x_train.Embarked = x_train.Embarked.fillna(value=x_train.Embarked.mode())\n",
    "    x_train.at[891, 'Embarked'] = x_train.Embarked.mode()\n",
    "    x_train.Embarked = x_train.Embarked.astype(str)\n",
    "\n",
    "\n",
    "# ('num_tranform', std_scale, ['Fare'])],\n",
    "def train_for_age(x, y):\n",
    "    ordinal_enc = OrdinalEncoder()\n",
    "    std_scale = StandardScaler()\n",
    "    x_t = x.drop(['Name', 'Cabin', 'Ticket'], axis=1).copy()\n",
    "    kbd = KBinsDiscretizer(n_bins=7, encode='ordinal', strategy='kmeans')\n",
    "    c_transform = ColumnTransformer([('KBinsDiscretizer', kbd, ['Fare']),\n",
    "                                     ('cat_transform', ordinal_enc, ['Embarked', 'Sex', 'salutation'])],\n",
    "                                    remainder='passthrough', )\n",
    "    y_t = kbd.fit_transform(np.array(y).reshape(-1, 1))\n",
    "    c_transform.fit(x_t)\n",
    "    x_t = c_transform.transform(x_t)\n",
    "    x_train, x_test, y_train, y_test = train_test_split(x_t, y_t.ravel(), test_size=0.3, random_state=5, shuffle=False)\n",
    "    mlp__classifier = MLPClassifier(hidden_layer_sizes=(20, 45),\n",
    "                                    activation='tanh',\n",
    "                                    solver='lbfgs',\n",
    "                                    verbose=False,\n",
    "                                    warm_start=True,\n",
    "                                    learning_rate='adaptive',\n",
    "                                    max_iter=10 ** 5,\n",
    "                                    early_stopping=True,\n",
    "                                    )\n",
    "    mlp__classifier.fit(x_train, y_train)\n",
    "    val_dump(mlp__classifier,x_train, x_test, y_train, y_test)\n",
    "    return x_train, x_test, y_train, y_test\n",
    "\n",
    "\n",
    "# return 0\n",
    "\n",
    "\n",
    "def find_missing_age_category(x: pd.DataFrame):\n",
    "    data_missing_age: pd.DataFrame = x[x.Age.isna() == True]\n",
    "    data_with_age: pd.DataFrame = x[x.Age.isna() == False]\n",
    "    train_age_y = data_with_age['Age']\n",
    "    missing_ages = data_missing_age['Age']\n",
    "    train_age_x, test_age_x = data_with_age.drop(['Age'], axis=1), data_missing_age.drop(['Age'], axis=1)\n",
    "    x_train, x_test, y_train, y_test = train_for_age(train_age_x, train_age_y)\n",
    "    clf = joblib.load('C:/Users/risan/PycharmProjects/scientificProject/outputs/age__classifier')\n",
    "    y_train_pred = clf.predict(x_train)\n",
    "    # print(age_model)\n",
    "    return \"Successfully\"\n",
    "\n",
    "\n",
    "d = DataObject()\n",
    "trainer: pd.DataFrame = d.x_train\n",
    "survival_data: pd.Series = d.y_train\n",
    "validator: pd.DataFrame = d.test_data\n",
    "trainer = trainer.apply(d.find_salutation, axis=1)\n",
    "validator = validator.apply(d.find_salutation, axis=1)\n",
    "# noinspection PyTypeChecker\n",
    "trainer = trainer.apply(d.has_relatives, axis=1)\n",
    "validator = validator.apply(d.has_relatives, axis=1)\n",
    "age_data = pd.concat([trainer, validator], axis=0)\n",
    "find_missing_age_category(trainer)\n",
    "# validation_data = d.test_data\n",
    "# enhance_age_prediction_model_from_validation_data(d.test_data)"
   ]
  },
  {
   "cell_type": "code",
   "execution_count": 75,
   "id": "e444cb7e-a6da-4f7a-9bea-47bc8ace653e",
   "metadata": {},
   "outputs": [
    {
     "name": "stdout",
     "output_type": "stream",
     "text": [
      "precision_score from training set 0.6451020405671675\n",
      "precision_score from test set 0.3416403174269112\n"
     ]
    }
   ],
   "source": [
    "x_train = joblib.load('C:/Users/risan/PycharmProjects/scientificProject/outputs/train_age')\n",
    "x_test = joblib.load('C:/Users/risan/PycharmProjects/scientificProject/outputs/x_test')\n",
    "y_train = joblib.load('C:/Users/risan/PycharmProjects/scientificProject/outputs/y_train')\n",
    "clf = joblib.load('C:/Users/risan/PycharmProjects/scientificProject/outputs/age__classifier')\n",
    "y_test = joblib.load('C:/Users/risan/PycharmProjects/scientificProject/outputs/y_test')\n",
    "y_train_pred = clf.predict(x_train)\n",
    "y_test_pred = clf.predict(x_test)\n",
    "print('precision_score from training set', precision_score(y_train, y_train_pred, zero_division=1, average='weighted'))\n",
    "print('precision_score from test set', precision_score(y_test, y_test_pred, zero_division=1, average='weighted'))"
   ]
  },
  {
   "cell_type": "code",
   "execution_count": null,
   "outputs": [],
   "source": [],
   "metadata": {
    "collapsed": false,
    "pycharm": {
     "name": "#%%\n"
    }
   }
  }
 ],
 "metadata": {
  "kernelspec": {
   "display_name": "Python 3 (ipykernel)",
   "language": "python",
   "name": "python3"
  },
  "language_info": {
   "codemirror_mode": {
    "name": "ipython",
    "version": 3
   },
   "file_extension": ".py",
   "mimetype": "text/x-python",
   "name": "python",
   "nbconvert_exporter": "python",
   "pygments_lexer": "ipython3",
   "version": "3.9.7"
  }
 },
 "nbformat": 4,
 "nbformat_minor": 5
}