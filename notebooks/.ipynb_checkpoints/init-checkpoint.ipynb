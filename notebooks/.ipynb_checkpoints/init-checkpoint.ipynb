{
 "cells": [
  {
   "cell_type": "code",
   "execution_count": 22,
   "id": "49742420-dbc8-4556-ae9d-ad7108324203",
   "metadata": {},
   "outputs": [],
   "source": [
    "import numpy as np\n",
    "import pandas as pd\n",
    "from sklearn.model_selection import train_test_split,cross_validate,RandomizedSearchCV,GridSearchCV,ShuffleSplit,StratifiedShuffleSplit\n",
    "from sklearn.tree import DecisionTreeRegressor, DecisionTreeClassifier\n",
    "from sklearn.ensemble import RandomForestClassifier, RandomForestRegressor,GradientBoostingClassifier \n",
    "from sklearn.preprocessing import StandardScaler,LabelEncoder,OneHotEncoder,OrdinalEncoder,add_dummy_feature\n",
    "from sklearn.metrics import mean_squared_error"
   ]
  },
  {
   "cell_type": "code",
   "execution_count": 21,
   "id": "fba00d69-b6df-4f60-bd1d-97f4807e00ae",
   "metadata": {},
   "outputs": [
    {
     "name": "stdout",
     "output_type": "stream",
     "text": [
      "First in-sample predictions: [208500. 181500. 223500. 140000. 250000.]\n",
      "Actual target values for those homes: [208500, 181500, 223500, 140000, 250000]\n"
     ]
    }
   ],
   "source": [
    "# import pandas as pd\n",
    "# from sklearn.tree import DecisionTreeRegressor\n",
    "\n",
    "# Path of the file to read\n",
    "iowa_file_path = 'C:/Users/risan/PycharmProjects/scientificProject/data/Kaggle/housing-prices-competition-for-kaggle-learn-users/train.csv'\n",
    "# PycharmProjects/scientificProject/data/Kaggle/housing-prices-competition-for-kaggle-learn-users\n",
    "# PycharmProjects/scientificProject/data/Kaggle/housing-prices-competition-for-kaggle-learn-users/train.csv\n",
    "home_data = pd.read_csv(iowa_file_path)\n",
    "y = home_data.SalePrice\n",
    "feature_columns = ['LotArea', 'YearBuilt', '1stFlrSF', '2ndFlrSF', 'FullBath', 'BedroomAbvGr', 'TotRmsAbvGrd']\n",
    "X = home_data[feature_columns]\n",
    "\n",
    "# Specify Model\n",
    "iowa_model = DecisionTreeRegressor(random_state=1)\n",
    "# Fit Model\n",
    "iowa_model.fit(X, y)\n",
    "\n",
    "print(\"First in-sample predictions:\", iowa_model.predict(X.head()))\n",
    "print(\"Actual target values for those homes:\", y.head().tolist())\n",
    "\n",
    "# Set up code checking\n",
    "# from learntools.core import binder\n",
    "# binder.bind(globals())\n",
    "# from learntools.machine_learning.ex4 import *\n",
    "# print(\"Setup Complete\")"
   ]
  },
  {
   "cell_type": "code",
   "execution_count": 20,
   "id": "ba69b227-b1ef-428d-b16c-c06ea22e46e0",
   "metadata": {},
   "outputs": [],
   "source": [
    "train_X, val_X, train_y, val_y = train_test_split(X, y, random_state=1 )"
   ]
  },
  {
   "cell_type": "code",
   "execution_count": 25,
   "id": "0b2c7fe4-1170-4d2f-b369-1373aa14d276",
   "metadata": {},
   "outputs": [
    {
     "name": "stdout",
     "output_type": "stream",
     "text": [
      "1745663966.7561643\n"
     ]
    }
   ],
   "source": [
    "iowa_model_1 = DecisionTreeRegressor(random_state=1)\n",
    "iowa_model_1.fit(train_X, train_y)\n",
    "test_predictions = iowa_model_1.predict(val_X)\n",
    "mse = mean_squared_error(val_y, test_predictions)\n",
    "print(mse)"
   ]
  },
  {
   "cell_type": "code",
   "execution_count": null,
   "id": "540d726d-aaf7-4510-91e5-4f6fdd7f7e05",
   "metadata": {},
   "outputs": [],
   "source": []
  }
 ],
 "metadata": {
  "kernelspec": {
   "display_name": "Python 3 (ipykernel)",
   "language": "python",
   "name": "python3"
  },
  "language_info": {
   "codemirror_mode": {
    "name": "ipython",
    "version": 3
   },
   "file_extension": ".py",
   "mimetype": "text/x-python",
   "name": "python",
   "nbconvert_exporter": "python",
   "pygments_lexer": "ipython3",
   "version": "3.9.7"
  },
  "widgets": {
   "application/vnd.jupyter.widget-state+json": {
    "state": {},
    "version_major": 2,
    "version_minor": 0
   }
  }
 },
 "nbformat": 4,
 "nbformat_minor": 5
}
