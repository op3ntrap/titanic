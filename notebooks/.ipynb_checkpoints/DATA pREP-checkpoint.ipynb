{
 "cells": [
  {
   "cell_type": "code",
   "execution_count": 1,
   "id": "726256e2",
   "metadata": {},
   "outputs": [
    {
     "name": "stderr",
     "output_type": "stream",
     "text": [
      "Intel(R) Extension for Scikit-learn* enabled (https://github.com/intel/scikit-learn-intelex)\n"
     ]
    }
   ],
   "source": [
    "import numpy as np\n",
    "import pandas as pd\n",
    "from sklearnex import patch_sklearn\n",
    "\n",
    "patch_sklearn()\n",
    "from sklearn.model_selection import train_test_split\n",
    "from sklearn.ensemble import GradientBoostingClassifier\n",
    "from sklearn.preprocessing import StandardScaler, OrdinalEncoder\n",
    "from sklearn.preprocessing import KBinsDiscretizer\n",
    "from sklearn.compose import ColumnTransformer\n",
    "from sklearn.impute import SimpleImputer\n",
    "from dataclasses import dataclass\n",
    "from sklearn.metrics import precision_score\n",
    "import joblib"
   ]
  },
  {
   "cell_type": "code",
   "execution_count": 18,
   "id": "4ad2994c",
   "metadata": {},
   "outputs": [],
   "source": [
    "training_data = pd.read_csv('../data/Kaggle/titanic/train.csv', index_col=0)\n",
    "prediction_data = pd.read_csv('../data/Kaggle/titanic/test.csv',index_col=0)\n",
    "master_training_data = joblib.load('../outputs/master_training_data')"
   ]
  },
  {
   "cell_type": "code",
   "execution_count": 19,
   "id": "a729bf8a",
   "metadata": {},
   "outputs": [],
   "source": [
    "master_training_data.sort_index(inplace=True)"
   ]
  },
  {
   "cell_type": "code",
   "execution_count": 20,
   "id": "8bc8930c",
   "metadata": {},
   "outputs": [
    {
     "data": {
      "text/html": [
       "<div>\n",
       "<style scoped>\n",
       "    .dataframe tbody tr th:only-of-type {\n",
       "        vertical-align: middle;\n",
       "    }\n",
       "\n",
       "    .dataframe tbody tr th {\n",
       "        vertical-align: top;\n",
       "    }\n",
       "\n",
       "    .dataframe thead th {\n",
       "        text-align: right;\n",
       "    }\n",
       "</style>\n",
       "<table border=\"1\" class=\"dataframe\">\n",
       "  <thead>\n",
       "    <tr style=\"text-align: right;\">\n",
       "      <th></th>\n",
       "      <th>Pclass</th>\n",
       "      <th>Name</th>\n",
       "      <th>Sex</th>\n",
       "      <th>Age</th>\n",
       "      <th>SibSp</th>\n",
       "      <th>Parch</th>\n",
       "      <th>Ticket</th>\n",
       "      <th>Fare</th>\n",
       "      <th>Cabin</th>\n",
       "      <th>Embarked</th>\n",
       "      <th>salutation</th>\n",
       "      <th>has_relatives</th>\n",
       "      <th>Age_Bin</th>\n",
       "    </tr>\n",
       "    <tr>\n",
       "      <th>PassengerId</th>\n",
       "      <th></th>\n",
       "      <th></th>\n",
       "      <th></th>\n",
       "      <th></th>\n",
       "      <th></th>\n",
       "      <th></th>\n",
       "      <th></th>\n",
       "      <th></th>\n",
       "      <th></th>\n",
       "      <th></th>\n",
       "      <th></th>\n",
       "      <th></th>\n",
       "      <th></th>\n",
       "    </tr>\n",
       "  </thead>\n",
       "  <tbody>\n",
       "    <tr>\n",
       "      <th>1</th>\n",
       "      <td>3</td>\n",
       "      <td>braund, mr. owen harris</td>\n",
       "      <td>male</td>\n",
       "      <td>22.0</td>\n",
       "      <td>1</td>\n",
       "      <td>0</td>\n",
       "      <td>A/5 21171</td>\n",
       "      <td>7.2500</td>\n",
       "      <td>NaN</td>\n",
       "      <td>C</td>\n",
       "      <td>MR</td>\n",
       "      <td>0</td>\n",
       "      <td>1.0</td>\n",
       "    </tr>\n",
       "    <tr>\n",
       "      <th>2</th>\n",
       "      <td>1</td>\n",
       "      <td>cumings, mrs. john bradley (florence briggs th...</td>\n",
       "      <td>female</td>\n",
       "      <td>38.0</td>\n",
       "      <td>1</td>\n",
       "      <td>0</td>\n",
       "      <td>PC 17599</td>\n",
       "      <td>71.2833</td>\n",
       "      <td>C85</td>\n",
       "      <td>S</td>\n",
       "      <td>MRS</td>\n",
       "      <td>0</td>\n",
       "      <td>1.0</td>\n",
       "    </tr>\n",
       "    <tr>\n",
       "      <th>3</th>\n",
       "      <td>3</td>\n",
       "      <td>heikkinen, miss. laina</td>\n",
       "      <td>female</td>\n",
       "      <td>26.0</td>\n",
       "      <td>0</td>\n",
       "      <td>0</td>\n",
       "      <td>STON/O2. 3101282</td>\n",
       "      <td>7.9250</td>\n",
       "      <td>NaN</td>\n",
       "      <td>S</td>\n",
       "      <td>MISS</td>\n",
       "      <td>0</td>\n",
       "      <td>1.0</td>\n",
       "    </tr>\n",
       "    <tr>\n",
       "      <th>4</th>\n",
       "      <td>1</td>\n",
       "      <td>futrelle, mrs. jacques heath (lily may peel)</td>\n",
       "      <td>female</td>\n",
       "      <td>35.0</td>\n",
       "      <td>1</td>\n",
       "      <td>0</td>\n",
       "      <td>113803</td>\n",
       "      <td>53.1000</td>\n",
       "      <td>C123</td>\n",
       "      <td>S</td>\n",
       "      <td>MRS</td>\n",
       "      <td>0</td>\n",
       "      <td>1.0</td>\n",
       "    </tr>\n",
       "    <tr>\n",
       "      <th>5</th>\n",
       "      <td>3</td>\n",
       "      <td>allen, mr. william henry</td>\n",
       "      <td>male</td>\n",
       "      <td>35.0</td>\n",
       "      <td>0</td>\n",
       "      <td>0</td>\n",
       "      <td>373450</td>\n",
       "      <td>8.0500</td>\n",
       "      <td>NaN</td>\n",
       "      <td>Q</td>\n",
       "      <td>MR</td>\n",
       "      <td>0</td>\n",
       "      <td>1.0</td>\n",
       "    </tr>\n",
       "    <tr>\n",
       "      <th>...</th>\n",
       "      <td>...</td>\n",
       "      <td>...</td>\n",
       "      <td>...</td>\n",
       "      <td>...</td>\n",
       "      <td>...</td>\n",
       "      <td>...</td>\n",
       "      <td>...</td>\n",
       "      <td>...</td>\n",
       "      <td>...</td>\n",
       "      <td>...</td>\n",
       "      <td>...</td>\n",
       "      <td>...</td>\n",
       "      <td>...</td>\n",
       "    </tr>\n",
       "    <tr>\n",
       "      <th>887</th>\n",
       "      <td>2</td>\n",
       "      <td>montvila, rev. juozas</td>\n",
       "      <td>male</td>\n",
       "      <td>27.0</td>\n",
       "      <td>0</td>\n",
       "      <td>0</td>\n",
       "      <td>211536</td>\n",
       "      <td>13.0000</td>\n",
       "      <td>NaN</td>\n",
       "      <td>S</td>\n",
       "      <td>NA</td>\n",
       "      <td>0</td>\n",
       "      <td>1.0</td>\n",
       "    </tr>\n",
       "    <tr>\n",
       "      <th>888</th>\n",
       "      <td>1</td>\n",
       "      <td>graham, miss. margaret edith</td>\n",
       "      <td>female</td>\n",
       "      <td>19.0</td>\n",
       "      <td>0</td>\n",
       "      <td>0</td>\n",
       "      <td>112053</td>\n",
       "      <td>30.0000</td>\n",
       "      <td>B42</td>\n",
       "      <td>S</td>\n",
       "      <td>MISS</td>\n",
       "      <td>0</td>\n",
       "      <td>0.0</td>\n",
       "    </tr>\n",
       "    <tr>\n",
       "      <th>889</th>\n",
       "      <td>3</td>\n",
       "      <td>johnston, miss. catherine helen \"carrie\"</td>\n",
       "      <td>female</td>\n",
       "      <td>NaN</td>\n",
       "      <td>1</td>\n",
       "      <td>2</td>\n",
       "      <td>W./C. 6607</td>\n",
       "      <td>23.4500</td>\n",
       "      <td>NaN</td>\n",
       "      <td>C</td>\n",
       "      <td>MISS</td>\n",
       "      <td>1</td>\n",
       "      <td>1.0</td>\n",
       "    </tr>\n",
       "    <tr>\n",
       "      <th>890</th>\n",
       "      <td>1</td>\n",
       "      <td>behr, mr. karl howell</td>\n",
       "      <td>male</td>\n",
       "      <td>26.0</td>\n",
       "      <td>0</td>\n",
       "      <td>0</td>\n",
       "      <td>111369</td>\n",
       "      <td>30.0000</td>\n",
       "      <td>C148</td>\n",
       "      <td>Q</td>\n",
       "      <td>MR</td>\n",
       "      <td>0</td>\n",
       "      <td>1.0</td>\n",
       "    </tr>\n",
       "    <tr>\n",
       "      <th>891</th>\n",
       "      <td>3</td>\n",
       "      <td>dooley, mr. patrick</td>\n",
       "      <td>male</td>\n",
       "      <td>32.0</td>\n",
       "      <td>0</td>\n",
       "      <td>0</td>\n",
       "      <td>370376</td>\n",
       "      <td>7.7500</td>\n",
       "      <td>NaN</td>\n",
       "      <td>S</td>\n",
       "      <td>MR</td>\n",
       "      <td>0</td>\n",
       "      <td>1.0</td>\n",
       "    </tr>\n",
       "  </tbody>\n",
       "</table>\n",
       "<p>891 rows × 13 columns</p>\n",
       "</div>"
      ],
      "text/plain": [
       "             Pclass                                               Name  \\\n",
       "PassengerId                                                              \n",
       "1                 3                            braund, mr. owen harris   \n",
       "2                 1  cumings, mrs. john bradley (florence briggs th...   \n",
       "3                 3                             heikkinen, miss. laina   \n",
       "4                 1       futrelle, mrs. jacques heath (lily may peel)   \n",
       "5                 3                           allen, mr. william henry   \n",
       "...             ...                                                ...   \n",
       "887               2                              montvila, rev. juozas   \n",
       "888               1                       graham, miss. margaret edith   \n",
       "889               3           johnston, miss. catherine helen \"carrie\"   \n",
       "890               1                              behr, mr. karl howell   \n",
       "891               3                                dooley, mr. patrick   \n",
       "\n",
       "                Sex   Age  SibSp  Parch            Ticket     Fare Cabin  \\\n",
       "PassengerId                                                                \n",
       "1              male  22.0      1      0         A/5 21171   7.2500   NaN   \n",
       "2            female  38.0      1      0          PC 17599  71.2833   C85   \n",
       "3            female  26.0      0      0  STON/O2. 3101282   7.9250   NaN   \n",
       "4            female  35.0      1      0            113803  53.1000  C123   \n",
       "5              male  35.0      0      0            373450   8.0500   NaN   \n",
       "...             ...   ...    ...    ...               ...      ...   ...   \n",
       "887            male  27.0      0      0            211536  13.0000   NaN   \n",
       "888          female  19.0      0      0            112053  30.0000   B42   \n",
       "889          female   NaN      1      2        W./C. 6607  23.4500   NaN   \n",
       "890            male  26.0      0      0            111369  30.0000  C148   \n",
       "891            male  32.0      0      0            370376   7.7500   NaN   \n",
       "\n",
       "            Embarked salutation  has_relatives  Age_Bin  \n",
       "PassengerId                                              \n",
       "1                  C         MR              0      1.0  \n",
       "2                  S        MRS              0      1.0  \n",
       "3                  S       MISS              0      1.0  \n",
       "4                  S        MRS              0      1.0  \n",
       "5                  Q         MR              0      1.0  \n",
       "...              ...        ...            ...      ...  \n",
       "887                S         NA              0      1.0  \n",
       "888                S       MISS              0      0.0  \n",
       "889                C       MISS              1      1.0  \n",
       "890                Q         MR              0      1.0  \n",
       "891                S         MR              0      1.0  \n",
       "\n",
       "[891 rows x 13 columns]"
      ]
     },
     "execution_count": 20,
     "metadata": {},
     "output_type": "execute_result"
    }
   ],
   "source": [
    "master_training_data[0:891]"
   ]
  },
  {
   "cell_type": "code",
   "execution_count": 7,
   "id": "646de744",
   "metadata": {},
   "outputs": [
    {
     "data": {
      "text/plain": [
       "1.0    834\n",
       "0.0    248\n",
       "2.0    194\n",
       "3.0     33\n",
       "Name: Age_Bin, dtype: int64"
      ]
     },
     "execution_count": 7,
     "metadata": {},
     "output_type": "execute_result"
    }
   ],
   "source": [
    "master_training_data.Age_Bin.value_counts()"
   ]
  },
  {
   "cell_type": "code",
   "execution_count": 22,
   "id": "acd75ed8",
   "metadata": {},
   "outputs": [],
   "source": [
    "tr = master_training_data.iloc[0:891].copy()"
   ]
  },
  {
   "cell_type": "code",
   "execution_count": 21,
   "id": "f71354df",
   "metadata": {},
   "outputs": [],
   "source": [
    "survival_data = training_data.Survived"
   ]
  },
  {
   "cell_type": "code",
   "execution_count": 23,
   "id": "227ee5e4",
   "metadata": {},
   "outputs": [],
   "source": [
    "tr['Survival'] = survival_data"
   ]
  },
  {
   "cell_type": "code",
   "execution_count": 24,
   "id": "8d347dac",
   "metadata": {},
   "outputs": [
    {
     "data": {
      "text/plain": [
       "['../outputs/train_csv_mod']"
      ]
     },
     "execution_count": 24,
     "metadata": {},
     "output_type": "execute_result"
    }
   ],
   "source": [
    "joblib.dump(tr,'../outputs/train_csv_mod')"
   ]
  },
  {
   "cell_type": "code",
   "execution_count": 25,
   "id": "58fb7021",
   "metadata": {},
   "outputs": [],
   "source": [
    "training_data = joblib.load('../outputs/train_csv_mod')"
   ]
  },
  {
   "cell_type": "code",
   "execution_count": 27,
   "id": "f9dd97b2",
   "metadata": {},
   "outputs": [
    {
     "data": {
      "text/html": [
       "<div>\n",
       "<style scoped>\n",
       "    .dataframe tbody tr th:only-of-type {\n",
       "        vertical-align: middle;\n",
       "    }\n",
       "\n",
       "    .dataframe tbody tr th {\n",
       "        vertical-align: top;\n",
       "    }\n",
       "\n",
       "    .dataframe thead th {\n",
       "        text-align: right;\n",
       "    }\n",
       "</style>\n",
       "<table border=\"1\" class=\"dataframe\">\n",
       "  <thead>\n",
       "    <tr style=\"text-align: right;\">\n",
       "      <th></th>\n",
       "      <th>Pclass</th>\n",
       "      <th>Name</th>\n",
       "      <th>Sex</th>\n",
       "      <th>Age</th>\n",
       "      <th>SibSp</th>\n",
       "      <th>Parch</th>\n",
       "      <th>Ticket</th>\n",
       "      <th>Fare</th>\n",
       "      <th>Cabin</th>\n",
       "      <th>Embarked</th>\n",
       "      <th>salutation</th>\n",
       "      <th>has_relatives</th>\n",
       "      <th>Age_Bin</th>\n",
       "      <th>Survival</th>\n",
       "    </tr>\n",
       "    <tr>\n",
       "      <th>PassengerId</th>\n",
       "      <th></th>\n",
       "      <th></th>\n",
       "      <th></th>\n",
       "      <th></th>\n",
       "      <th></th>\n",
       "      <th></th>\n",
       "      <th></th>\n",
       "      <th></th>\n",
       "      <th></th>\n",
       "      <th></th>\n",
       "      <th></th>\n",
       "      <th></th>\n",
       "      <th></th>\n",
       "      <th></th>\n",
       "    </tr>\n",
       "  </thead>\n",
       "  <tbody>\n",
       "    <tr>\n",
       "      <th>1</th>\n",
       "      <td>3</td>\n",
       "      <td>braund, mr. owen harris</td>\n",
       "      <td>male</td>\n",
       "      <td>22.0</td>\n",
       "      <td>1</td>\n",
       "      <td>0</td>\n",
       "      <td>A/5 21171</td>\n",
       "      <td>7.2500</td>\n",
       "      <td>NaN</td>\n",
       "      <td>C</td>\n",
       "      <td>MR</td>\n",
       "      <td>0</td>\n",
       "      <td>1.0</td>\n",
       "      <td>0</td>\n",
       "    </tr>\n",
       "    <tr>\n",
       "      <th>2</th>\n",
       "      <td>1</td>\n",
       "      <td>cumings, mrs. john bradley (florence briggs th...</td>\n",
       "      <td>female</td>\n",
       "      <td>38.0</td>\n",
       "      <td>1</td>\n",
       "      <td>0</td>\n",
       "      <td>PC 17599</td>\n",
       "      <td>71.2833</td>\n",
       "      <td>C85</td>\n",
       "      <td>S</td>\n",
       "      <td>MRS</td>\n",
       "      <td>0</td>\n",
       "      <td>1.0</td>\n",
       "      <td>1</td>\n",
       "    </tr>\n",
       "    <tr>\n",
       "      <th>3</th>\n",
       "      <td>3</td>\n",
       "      <td>heikkinen, miss. laina</td>\n",
       "      <td>female</td>\n",
       "      <td>26.0</td>\n",
       "      <td>0</td>\n",
       "      <td>0</td>\n",
       "      <td>STON/O2. 3101282</td>\n",
       "      <td>7.9250</td>\n",
       "      <td>NaN</td>\n",
       "      <td>S</td>\n",
       "      <td>MISS</td>\n",
       "      <td>0</td>\n",
       "      <td>1.0</td>\n",
       "      <td>1</td>\n",
       "    </tr>\n",
       "    <tr>\n",
       "      <th>4</th>\n",
       "      <td>1</td>\n",
       "      <td>futrelle, mrs. jacques heath (lily may peel)</td>\n",
       "      <td>female</td>\n",
       "      <td>35.0</td>\n",
       "      <td>1</td>\n",
       "      <td>0</td>\n",
       "      <td>113803</td>\n",
       "      <td>53.1000</td>\n",
       "      <td>C123</td>\n",
       "      <td>S</td>\n",
       "      <td>MRS</td>\n",
       "      <td>0</td>\n",
       "      <td>1.0</td>\n",
       "      <td>1</td>\n",
       "    </tr>\n",
       "    <tr>\n",
       "      <th>5</th>\n",
       "      <td>3</td>\n",
       "      <td>allen, mr. william henry</td>\n",
       "      <td>male</td>\n",
       "      <td>35.0</td>\n",
       "      <td>0</td>\n",
       "      <td>0</td>\n",
       "      <td>373450</td>\n",
       "      <td>8.0500</td>\n",
       "      <td>NaN</td>\n",
       "      <td>Q</td>\n",
       "      <td>MR</td>\n",
       "      <td>0</td>\n",
       "      <td>1.0</td>\n",
       "      <td>0</td>\n",
       "    </tr>\n",
       "    <tr>\n",
       "      <th>...</th>\n",
       "      <td>...</td>\n",
       "      <td>...</td>\n",
       "      <td>...</td>\n",
       "      <td>...</td>\n",
       "      <td>...</td>\n",
       "      <td>...</td>\n",
       "      <td>...</td>\n",
       "      <td>...</td>\n",
       "      <td>...</td>\n",
       "      <td>...</td>\n",
       "      <td>...</td>\n",
       "      <td>...</td>\n",
       "      <td>...</td>\n",
       "      <td>...</td>\n",
       "    </tr>\n",
       "    <tr>\n",
       "      <th>887</th>\n",
       "      <td>2</td>\n",
       "      <td>montvila, rev. juozas</td>\n",
       "      <td>male</td>\n",
       "      <td>27.0</td>\n",
       "      <td>0</td>\n",
       "      <td>0</td>\n",
       "      <td>211536</td>\n",
       "      <td>13.0000</td>\n",
       "      <td>NaN</td>\n",
       "      <td>S</td>\n",
       "      <td>NA</td>\n",
       "      <td>0</td>\n",
       "      <td>1.0</td>\n",
       "      <td>0</td>\n",
       "    </tr>\n",
       "    <tr>\n",
       "      <th>888</th>\n",
       "      <td>1</td>\n",
       "      <td>graham, miss. margaret edith</td>\n",
       "      <td>female</td>\n",
       "      <td>19.0</td>\n",
       "      <td>0</td>\n",
       "      <td>0</td>\n",
       "      <td>112053</td>\n",
       "      <td>30.0000</td>\n",
       "      <td>B42</td>\n",
       "      <td>S</td>\n",
       "      <td>MISS</td>\n",
       "      <td>0</td>\n",
       "      <td>0.0</td>\n",
       "      <td>1</td>\n",
       "    </tr>\n",
       "    <tr>\n",
       "      <th>889</th>\n",
       "      <td>3</td>\n",
       "      <td>johnston, miss. catherine helen \"carrie\"</td>\n",
       "      <td>female</td>\n",
       "      <td>NaN</td>\n",
       "      <td>1</td>\n",
       "      <td>2</td>\n",
       "      <td>W./C. 6607</td>\n",
       "      <td>23.4500</td>\n",
       "      <td>NaN</td>\n",
       "      <td>C</td>\n",
       "      <td>MISS</td>\n",
       "      <td>1</td>\n",
       "      <td>1.0</td>\n",
       "      <td>0</td>\n",
       "    </tr>\n",
       "    <tr>\n",
       "      <th>890</th>\n",
       "      <td>1</td>\n",
       "      <td>behr, mr. karl howell</td>\n",
       "      <td>male</td>\n",
       "      <td>26.0</td>\n",
       "      <td>0</td>\n",
       "      <td>0</td>\n",
       "      <td>111369</td>\n",
       "      <td>30.0000</td>\n",
       "      <td>C148</td>\n",
       "      <td>Q</td>\n",
       "      <td>MR</td>\n",
       "      <td>0</td>\n",
       "      <td>1.0</td>\n",
       "      <td>1</td>\n",
       "    </tr>\n",
       "    <tr>\n",
       "      <th>891</th>\n",
       "      <td>3</td>\n",
       "      <td>dooley, mr. patrick</td>\n",
       "      <td>male</td>\n",
       "      <td>32.0</td>\n",
       "      <td>0</td>\n",
       "      <td>0</td>\n",
       "      <td>370376</td>\n",
       "      <td>7.7500</td>\n",
       "      <td>NaN</td>\n",
       "      <td>S</td>\n",
       "      <td>MR</td>\n",
       "      <td>0</td>\n",
       "      <td>1.0</td>\n",
       "      <td>0</td>\n",
       "    </tr>\n",
       "  </tbody>\n",
       "</table>\n",
       "<p>891 rows × 14 columns</p>\n",
       "</div>"
      ],
      "text/plain": [
       "             Pclass                                               Name  \\\n",
       "PassengerId                                                              \n",
       "1                 3                            braund, mr. owen harris   \n",
       "2                 1  cumings, mrs. john bradley (florence briggs th...   \n",
       "3                 3                             heikkinen, miss. laina   \n",
       "4                 1       futrelle, mrs. jacques heath (lily may peel)   \n",
       "5                 3                           allen, mr. william henry   \n",
       "...             ...                                                ...   \n",
       "887               2                              montvila, rev. juozas   \n",
       "888               1                       graham, miss. margaret edith   \n",
       "889               3           johnston, miss. catherine helen \"carrie\"   \n",
       "890               1                              behr, mr. karl howell   \n",
       "891               3                                dooley, mr. patrick   \n",
       "\n",
       "                Sex   Age  SibSp  Parch            Ticket     Fare Cabin  \\\n",
       "PassengerId                                                                \n",
       "1              male  22.0      1      0         A/5 21171   7.2500   NaN   \n",
       "2            female  38.0      1      0          PC 17599  71.2833   C85   \n",
       "3            female  26.0      0      0  STON/O2. 3101282   7.9250   NaN   \n",
       "4            female  35.0      1      0            113803  53.1000  C123   \n",
       "5              male  35.0      0      0            373450   8.0500   NaN   \n",
       "...             ...   ...    ...    ...               ...      ...   ...   \n",
       "887            male  27.0      0      0            211536  13.0000   NaN   \n",
       "888          female  19.0      0      0            112053  30.0000   B42   \n",
       "889          female   NaN      1      2        W./C. 6607  23.4500   NaN   \n",
       "890            male  26.0      0      0            111369  30.0000  C148   \n",
       "891            male  32.0      0      0            370376   7.7500   NaN   \n",
       "\n",
       "            Embarked salutation  has_relatives  Age_Bin  Survival  \n",
       "PassengerId                                                        \n",
       "1                  C         MR              0      1.0         0  \n",
       "2                  S        MRS              0      1.0         1  \n",
       "3                  S       MISS              0      1.0         1  \n",
       "4                  S        MRS              0      1.0         1  \n",
       "5                  Q         MR              0      1.0         0  \n",
       "...              ...        ...            ...      ...       ...  \n",
       "887                S         NA              0      1.0         0  \n",
       "888                S       MISS              0      0.0         1  \n",
       "889                C       MISS              1      1.0         0  \n",
       "890                Q         MR              0      1.0         1  \n",
       "891                S         MR              0      1.0         0  \n",
       "\n",
       "[891 rows x 14 columns]"
      ]
     },
     "execution_count": 27,
     "metadata": {},
     "output_type": "execute_result"
    }
   ],
   "source": [
    "training_data"
   ]
  },
  {
   "cell_type": "code",
   "execution_count": 5,
   "id": "9a5fb2ca",
   "metadata": {},
   "outputs": [],
   "source": [
    "@dataclass\n",
    "class DB(object):\n",
    "    path = 'C:/Users/risan/PycharmProjects/scientificProject'\n",
    "    data_master = joblib.load(path + '/outputs/master_training_data')\n",
    "    data_master.sort_index(inplace=True)\n",
    "    training_data = joblib.load(path + '/outputs/train_csv_mod')\n",
    "    evaluation_data = data_master.iloc[891:].copy()\n",
    "    training_db = pd.read_csv(path + '/data/Kaggle/titanic/train.csv', index_col=0)\n",
    "    training_data['Survived'] = training_db.Survived\n",
    "    eval_data = pd.read_csv(path + '/data/Kaggle/titanic/test.csv', index_col=0)\n",
    "    joblib.dump(evaluation_data, path + '/outputs/test_csv_mod')\n",
    "\n",
    "    def dump_training_data(self, x):\n",
    "        joblib.dump(x, self.path + '/outputs/train_csv_mod')\n",
    "\n",
    "    def dump_eval_data(self, x):\n",
    "        joblib.dump(x, self.path + '/outputs/test_csv_mod')\n",
    "\n",
    "\n",
    "d = DB()\n",
    "def feature_one_hot(df, f):\n",
    "    f_one_hot = pd.get_dummies(df[f], prefix=str(f))\n",
    "    df = pd.concat([df, f_one_hot], axis=1)\n",
    "    return df.copy()\n",
    "\n",
    "def transform_data(x: pd.DataFrame):\n",
    "\n",
    "    # One Hot Encoding of Embarked\n",
    "    x = feature_one_hot(x, 'Embarked')\n",
    "    # embarked_one_hot = pd.get_dummies(x.Embarked, prefix='Embarked')\n",
    "    # x = pd.concat([x, embarked_one_hot], axis=1)\n",
    "    x.Cabin = x.Cabin.fillna('U')\n",
    "    x.Cabin = x.Cabin.apply(lambda val: val[0])\n",
    "    x = feature_one_hot(x, 'Cabin')\n",
    "    x = feature_one_hot(x, 'Sex')\n",
    "    x = feature_one_hot(x, 'salutation')\n",
    "    return x.copy()\n"
   ]
  },
  {
   "cell_type": "code",
   "execution_count": 43,
   "id": "f26b1ea6",
   "metadata": {},
   "outputs": [],
   "source": [
    "x = transform_data(d.training_data)"
   ]
  },
  {
   "cell_type": "code",
   "execution_count": 16,
   "id": "ede68fe8",
   "metadata": {},
   "outputs": [
    {
     "data": {
      "text/plain": [
       "Index(['Pclass', 'Name', 'Sex', 'Age', 'SibSp', 'Parch', 'Ticket', 'Fare',\n",
       "       'Cabin', 'Embarked', 'salutation', 'has_relatives', 'Age_Bin',\n",
       "       'Survived', 'Embarked_C', 'Embarked_Q', 'Embarked_S', 'Cabin_A',\n",
       "       'Cabin_B', 'Cabin_C', 'Cabin_D', 'Cabin_E', 'Cabin_F', 'Cabin_G',\n",
       "       'Cabin_T', 'Cabin_U'],\n",
       "      dtype='object')"
      ]
     },
     "execution_count": 16,
     "metadata": {},
     "output_type": "execute_result"
    }
   ],
   "source": [
    "x.columns"
   ]
  },
  {
   "cell_type": "code",
   "execution_count": 14,
   "id": "bff0e789",
   "metadata": {},
   "outputs": [],
   "source": [
    "x.drop(['Survival'], axis=1,inplace=True)"
   ]
  },
  {
   "cell_type": "code",
   "execution_count": 44,
   "id": "7a227063",
   "metadata": {},
   "outputs": [],
   "source": [
    "d.dump_training_data(x)"
   ]
  },
  {
   "cell_type": "code",
   "execution_count": 2,
   "id": "46c6a1ce",
   "metadata": {},
   "outputs": [],
   "source": [
    "g = joblib.load('../outputs/test_csv_mod')"
   ]
  },
  {
   "cell_type": "code",
   "execution_count": 6,
   "id": "a671d5e4",
   "metadata": {},
   "outputs": [],
   "source": [
    "g = transform_data(g)"
   ]
  },
  {
   "cell_type": "code",
   "execution_count": 48,
   "id": "3ac81c61",
   "metadata": {},
   "outputs": [],
   "source": [
    "d.training_data.drop(['Survived'], axis=1, inplace=True)"
   ]
  },
  {
   "cell_type": "code",
   "execution_count": 50,
   "id": "f9e5fe11",
   "metadata": {},
   "outputs": [],
   "source": [
    "e=d.training_data.copy()"
   ]
  },
  {
   "cell_type": "code",
   "execution_count": 54,
   "id": "393cef44",
   "metadata": {},
   "outputs": [],
   "source": [
    "e_t = transform_data(e)"
   ]
  },
  {
   "cell_type": "code",
   "execution_count": 8,
   "id": "43e7b286",
   "metadata": {},
   "outputs": [
    {
     "data": {
      "text/plain": [
       "Index(['Pclass', 'Name', 'Sex', 'Age', 'SibSp', 'Parch', 'Ticket', 'Fare',\n",
       "       'Cabin', 'Embarked', 'salutation', 'has_relatives', 'Age_Bin',\n",
       "       'Embarked_C', 'Embarked_Q', 'Embarked_S', 'Cabin_A', 'Cabin_B',\n",
       "       'Cabin_C', 'Cabin_D', 'Cabin_E', 'Cabin_F', 'Cabin_G', 'Cabin_U',\n",
       "       'Sex_female', 'Sex_male', 'salutation_DR', 'salutation_MASTER',\n",
       "       'salutation_MISS', 'salutation_MR', 'salutation_MRS', 'salutation_NA'],\n",
       "      dtype='object')"
      ]
     },
     "execution_count": 8,
     "metadata": {},
     "output_type": "execute_result"
    }
   ],
   "source": [
    "g.columns"
   ]
  },
  {
   "cell_type": "code",
   "execution_count": 57,
   "id": "e768c7c9",
   "metadata": {},
   "outputs": [
    {
     "data": {
      "text/plain": [
       "517"
      ]
     },
     "execution_count": 57,
     "metadata": {},
     "output_type": "execute_result"
    }
   ],
   "source": [
    "e_t.salutation_MR.sum()"
   ]
  },
  {
   "cell_type": "code",
   "execution_count": 62,
   "id": "a6b04852",
   "metadata": {},
   "outputs": [],
   "source": [
    "# find Male with family\n",
    "male_with_family = e_t[e_t.has_relatives==1].copy()"
   ]
  },
  {
   "cell_type": "code",
   "execution_count": 64,
   "id": "45e44c9b",
   "metadata": {},
   "outputs": [],
   "source": [
    "male_with_family = male_with_family[male_with_family.Sex_male==1].copy()"
   ]
  },
  {
   "cell_type": "code",
   "execution_count": 67,
   "id": "8a54e67f",
   "metadata": {},
   "outputs": [
    {
     "data": {
      "text/plain": [
       "0    65\n",
       "1    27\n",
       "Name: Survival, dtype: int64"
      ]
     },
     "execution_count": 67,
     "metadata": {},
     "output_type": "execute_result"
    }
   ],
   "source": [
    "male_with_family.Survival.value_counts()"
   ]
  },
  {
   "cell_type": "code",
   "execution_count": 68,
   "id": "17f18c66",
   "metadata": {},
   "outputs": [
    {
     "data": {
      "text/plain": [
       "0.7065217391304348"
      ]
     },
     "execution_count": 68,
     "metadata": {},
     "output_type": "execute_result"
    }
   ],
   "source": []
  },
  {
   "cell_type": "code",
   "execution_count": 9,
   "id": "7b7f0b64",
   "metadata": {},
   "outputs": [
    {
     "name": "stdout",
     "output_type": "stream",
     "text": [
      "<class 'pandas.core.frame.DataFrame'>\n",
      "Int64Index: 418 entries, 892 to 1309\n",
      "Data columns (total 32 columns):\n",
      " #   Column             Non-Null Count  Dtype  \n",
      "---  ------             --------------  -----  \n",
      " 0   Pclass             418 non-null    int64  \n",
      " 1   Name               418 non-null    object \n",
      " 2   Sex                418 non-null    object \n",
      " 3   Age                332 non-null    float64\n",
      " 4   SibSp              418 non-null    int64  \n",
      " 5   Parch              418 non-null    int64  \n",
      " 6   Ticket             418 non-null    object \n",
      " 7   Fare               417 non-null    float64\n",
      " 8   Cabin              418 non-null    object \n",
      " 9   Embarked           418 non-null    object \n",
      " 10  salutation         418 non-null    object \n",
      " 11  has_relatives      418 non-null    int64  \n",
      " 12  Age_Bin            418 non-null    float64\n",
      " 13  Embarked_C         418 non-null    uint8  \n",
      " 14  Embarked_Q         418 non-null    uint8  \n",
      " 15  Embarked_S         418 non-null    uint8  \n",
      " 16  Cabin_A            418 non-null    uint8  \n",
      " 17  Cabin_B            418 non-null    uint8  \n",
      " 18  Cabin_C            418 non-null    uint8  \n",
      " 19  Cabin_D            418 non-null    uint8  \n",
      " 20  Cabin_E            418 non-null    uint8  \n",
      " 21  Cabin_F            418 non-null    uint8  \n",
      " 22  Cabin_G            418 non-null    uint8  \n",
      " 23  Cabin_U            418 non-null    uint8  \n",
      " 24  Sex_female         418 non-null    uint8  \n",
      " 25  Sex_male           418 non-null    uint8  \n",
      " 26  salutation_DR      418 non-null    uint8  \n",
      " 27  salutation_MASTER  418 non-null    uint8  \n",
      " 28  salutation_MISS    418 non-null    uint8  \n",
      " 29  salutation_MR      418 non-null    uint8  \n",
      " 30  salutation_MRS     418 non-null    uint8  \n",
      " 31  salutation_NA      418 non-null    uint8  \n",
      "dtypes: float64(3), int64(4), object(6), uint8(19)\n",
      "memory usage: 53.5+ KB\n"
     ]
    }
   ],
   "source": [
    "g.info()"
   ]
  },
  {
   "cell_type": "code",
   "execution_count": 10,
   "id": "4018b657",
   "metadata": {},
   "outputs": [],
   "source": [
    "g.drop(['Sex','Age','Name','Ticket','Cabin','Embarked','salutation'], axis=1,inplace=True)"
   ]
  },
  {
   "cell_type": "code",
   "execution_count": 11,
   "id": "285bd447",
   "metadata": {},
   "outputs": [],
   "source": [
    "d.dump_eval_data(g)"
   ]
  },
  {
   "cell_type": "code",
   "execution_count": 76,
   "id": "31b024a3",
   "metadata": {},
   "outputs": [],
   "source": [
    "d = DB()"
   ]
  },
  {
   "cell_type": "code",
   "execution_count": 77,
   "id": "e48a3af7",
   "metadata": {},
   "outputs": [
    {
     "data": {
      "text/plain": [
       "Index(['Pclass', 'Name', 'Sex', 'Age', 'SibSp', 'Parch', 'Ticket', 'Fare',\n",
       "       'Cabin', 'Embarked', 'salutation', 'has_relatives', 'Age_Bin',\n",
       "       'Survival', 'Survived', 'Embarked_C', 'Embarked_Q', 'Embarked_S',\n",
       "       'Cabin_A', 'Cabin_B', 'Cabin_C', 'Cabin_D', 'Cabin_E', 'Cabin_F',\n",
       "       'Cabin_G', 'Cabin_T', 'Cabin_U'],\n",
       "      dtype='object')"
      ]
     },
     "execution_count": 77,
     "metadata": {},
     "output_type": "execute_result"
    }
   ],
   "source": [
    "d.training_data.columns"
   ]
  },
  {
   "cell_type": "code",
   "execution_count": 80,
   "id": "04d33aa5",
   "metadata": {},
   "outputs": [
    {
     "name": "stdout",
     "output_type": "stream",
     "text": [
      "<class 'pandas.core.frame.DataFrame'>\n",
      "Int64Index: 891 entries, 1 to 891\n",
      "Data columns (total 27 columns):\n",
      " #   Column             Non-Null Count  Dtype  \n",
      "---  ------             --------------  -----  \n",
      " 0   Pclass             891 non-null    int64  \n",
      " 1   SibSp              891 non-null    int64  \n",
      " 2   Parch              891 non-null    int64  \n",
      " 3   Fare               891 non-null    float64\n",
      " 4   has_relatives      891 non-null    int64  \n",
      " 5   Age_Bin            891 non-null    float64\n",
      " 6   Survival           891 non-null    int64  \n",
      " 7   Embarked_C         891 non-null    uint8  \n",
      " 8   Embarked_Q         891 non-null    uint8  \n",
      " 9   Embarked_S         891 non-null    uint8  \n",
      " 10  Cabin_A            891 non-null    uint8  \n",
      " 11  Cabin_B            891 non-null    uint8  \n",
      " 12  Cabin_C            891 non-null    uint8  \n",
      " 13  Cabin_D            891 non-null    uint8  \n",
      " 14  Cabin_E            891 non-null    uint8  \n",
      " 15  Cabin_F            891 non-null    uint8  \n",
      " 16  Cabin_G            891 non-null    uint8  \n",
      " 17  Cabin_T            891 non-null    uint8  \n",
      " 18  Cabin_U            891 non-null    uint8  \n",
      " 19  Sex_female         891 non-null    uint8  \n",
      " 20  Sex_male           891 non-null    uint8  \n",
      " 21  salutation_DR      891 non-null    uint8  \n",
      " 22  salutation_MASTER  891 non-null    uint8  \n",
      " 23  salutation_MISS    891 non-null    uint8  \n",
      " 24  salutation_MR      891 non-null    uint8  \n",
      " 25  salutation_MRS     891 non-null    uint8  \n",
      " 26  salutation_NA      891 non-null    uint8  \n",
      "dtypes: float64(2), int64(5), uint8(20)\n",
      "memory usage: 105.4 KB\n"
     ]
    }
   ],
   "source": [
    "f.info()"
   ]
  },
  {
   "cell_type": "code",
   "execution_count": 12,
   "id": "12b7dbc3",
   "metadata": {},
   "outputs": [],
   "source": [
    "g['Family_Size']=g['SibSp'] + g['Parch']"
   ]
  },
  {
   "cell_type": "code",
   "execution_count": 83,
   "id": "1e853620",
   "metadata": {},
   "outputs": [
    {
     "name": "stdout",
     "output_type": "stream",
     "text": [
      "<class 'pandas.core.frame.DataFrame'>\n",
      "Int64Index: 891 entries, 1 to 891\n",
      "Data columns (total 28 columns):\n",
      " #   Column             Non-Null Count  Dtype  \n",
      "---  ------             --------------  -----  \n",
      " 0   Pclass             891 non-null    int64  \n",
      " 1   SibSp              891 non-null    int64  \n",
      " 2   Parch              891 non-null    int64  \n",
      " 3   Fare               891 non-null    float64\n",
      " 4   has_relatives      891 non-null    int64  \n",
      " 5   Age_Bin            891 non-null    float64\n",
      " 6   Survival           891 non-null    int64  \n",
      " 7   Embarked_C         891 non-null    uint8  \n",
      " 8   Embarked_Q         891 non-null    uint8  \n",
      " 9   Embarked_S         891 non-null    uint8  \n",
      " 10  Cabin_A            891 non-null    uint8  \n",
      " 11  Cabin_B            891 non-null    uint8  \n",
      " 12  Cabin_C            891 non-null    uint8  \n",
      " 13  Cabin_D            891 non-null    uint8  \n",
      " 14  Cabin_E            891 non-null    uint8  \n",
      " 15  Cabin_F            891 non-null    uint8  \n",
      " 16  Cabin_G            891 non-null    uint8  \n",
      " 17  Cabin_T            891 non-null    uint8  \n",
      " 18  Cabin_U            891 non-null    uint8  \n",
      " 19  Sex_female         891 non-null    uint8  \n",
      " 20  Sex_male           891 non-null    uint8  \n",
      " 21  salutation_DR      891 non-null    uint8  \n",
      " 22  salutation_MASTER  891 non-null    uint8  \n",
      " 23  salutation_MISS    891 non-null    uint8  \n",
      " 24  salutation_MR      891 non-null    uint8  \n",
      " 25  salutation_MRS     891 non-null    uint8  \n",
      " 26  salutation_NA      891 non-null    uint8  \n",
      " 27  Family_Size        891 non-null    int64  \n",
      "dtypes: float64(2), int64(6), uint8(20)\n",
      "memory usage: 112.3 KB\n"
     ]
    }
   ],
   "source": [
    "f.info()"
   ]
  },
  {
   "cell_type": "code",
   "execution_count": 85,
   "id": "88dab327",
   "metadata": {},
   "outputs": [
    {
     "data": {
      "text/plain": [
       "0     537\n",
       "1     161\n",
       "2     102\n",
       "3      29\n",
       "5      22\n",
       "4      15\n",
       "6      12\n",
       "10      7\n",
       "7       6\n",
       "Name: Family_Size, dtype: int64"
      ]
     },
     "execution_count": 85,
     "metadata": {},
     "output_type": "execute_result"
    }
   ],
   "source": [
    "f.Family_Size.value_counts()"
   ]
  },
  {
   "cell_type": "code",
   "execution_count": 86,
   "id": "a022a37f",
   "metadata": {},
   "outputs": [],
   "source": [
    "from sklearn.preprocessing import KBinsDiscretizer"
   ]
  },
  {
   "cell_type": "code",
   "execution_count": 111,
   "id": "aae0f76e",
   "metadata": {},
   "outputs": [],
   "source": [
    "kbd = KBinsDiscretizer(n_bins=5,encode='ordinal',strategy='uniform')"
   ]
  },
  {
   "cell_type": "code",
   "execution_count": 120,
   "id": "4d785402",
   "metadata": {},
   "outputs": [],
   "source": [
    "f = feature_one_hot(f,'Age_Bin')"
   ]
  },
  {
   "cell_type": "code",
   "execution_count": 112,
   "id": "b3406a45",
   "metadata": {},
   "outputs": [],
   "source": [
    "fares = kbd.fit_transform(np.array(f.Fare).reshape(-1,1))"
   ]
  },
  {
   "cell_type": "code",
   "execution_count": 113,
   "id": "0b595b15",
   "metadata": {},
   "outputs": [],
   "source": [
    "f.Fare = pd.Series(fares.ravel(), index=f.index)"
   ]
  },
  {
   "cell_type": "code",
   "execution_count": 121,
   "id": "bf82b3c7",
   "metadata": {},
   "outputs": [
    {
     "data": {
      "text/plain": [
       "Index(['Pclass', 'SibSp', 'Parch', 'has_relatives', 'Age_Bin', 'Survival',\n",
       "       'Embarked_C', 'Embarked_Q', 'Embarked_S', 'Cabin_A', 'Cabin_B',\n",
       "       'Cabin_C', 'Cabin_D', 'Cabin_E', 'Cabin_F', 'Cabin_G', 'Cabin_T',\n",
       "       'Cabin_U', 'Sex_female', 'Sex_male', 'salutation_DR',\n",
       "       'salutation_MASTER', 'salutation_MISS', 'salutation_MR',\n",
       "       'salutation_MRS', 'salutation_NA', 'Family_Size_0.0', 'Family_Size_1.0',\n",
       "       'Family_Size_2.0', 'Family_Size_3.0', 'Family_Size_4.0', 'Fare_0.0',\n",
       "       'Fare_1.0', 'Fare_2.0', 'Fare_4.0', 'Pclass_1', 'Pclass_2', 'Pclass_3',\n",
       "       'Age_Bin_0.0', 'Age_Bin_1.0', 'Age_Bin_2.0', 'Age_Bin_3.0'],\n",
       "      dtype='object')"
      ]
     },
     "execution_count": 121,
     "metadata": {},
     "output_type": "execute_result"
    }
   ],
   "source": [
    "f.columns"
   ]
  },
  {
   "cell_type": "markdown",
   "id": "97005705",
   "metadata": {},
   "source": [
    "### Survival Rates Per Pclass"
   ]
  },
  {
   "cell_type": "code",
   "execution_count": 129,
   "id": "c2968f43",
   "metadata": {
    "scrolled": true
   },
   "outputs": [
    {
     "data": {
      "text/plain": [
       "1    0.629630\n",
       "2    0.472826\n",
       "3    0.242363\n",
       "Name: Pclass, dtype: float64"
      ]
     },
     "execution_count": 129,
     "metadata": {},
     "output_type": "execute_result"
    }
   ],
   "source": [
    "f[f.Survival==1].Pclass.value_counts()/(f[f.Survival==0].Pclass.value_counts()+f[f.Survival==1].Pclass.value_counts())"
   ]
  },
  {
   "cell_type": "code",
   "execution_count": 132,
   "id": "071be261",
   "metadata": {},
   "outputs": [],
   "source": [
    "f.drop(['Pclass','SibSp','Parch','Age_Bin'],axis=1,inplace=True)"
   ]
  },
  {
   "cell_type": "code",
   "execution_count": 135,
   "id": "39d37088",
   "metadata": {},
   "outputs": [
    {
     "data": {
      "text/plain": [
       "has_relatives        193\n",
       "Survival             342\n",
       "Embarked_C           168\n",
       "Embarked_Q            77\n",
       "Embarked_S           646\n",
       "Cabin_A               15\n",
       "Cabin_B               47\n",
       "Cabin_C               59\n",
       "Cabin_D               33\n",
       "Cabin_E               32\n",
       "Cabin_F               13\n",
       "Cabin_G                4\n",
       "Cabin_T                1\n",
       "Cabin_U              687\n",
       "Sex_female           314\n",
       "Sex_male             577\n",
       "salutation_DR          7\n",
       "salutation_MASTER     40\n",
       "salutation_MISS      182\n",
       "salutation_MR        517\n",
       "salutation_MRS       125\n",
       "salutation_NA         20\n",
       "Family_Size_0.0      698\n",
       "Family_Size_1.0      131\n",
       "Family_Size_2.0       37\n",
       "Family_Size_3.0       18\n",
       "Family_Size_4.0        7\n",
       "Fare_0.0             838\n",
       "Fare_1.0              33\n",
       "Fare_2.0              17\n",
       "Fare_4.0               3\n",
       "Pclass_1             216\n",
       "Pclass_2             184\n",
       "Pclass_3             491\n",
       "Age_Bin_0.0          179\n",
       "Age_Bin_1.0          562\n",
       "Age_Bin_2.0          128\n",
       "Age_Bin_3.0           22\n",
       "dtype: int64"
      ]
     },
     "execution_count": 135,
     "metadata": {},
     "output_type": "execute_result"
    }
   ],
   "source": [
    "f.sum()"
   ]
  },
  {
   "cell_type": "code",
   "execution_count": 131,
   "id": "d2d208ba",
   "metadata": {},
   "outputs": [],
   "source": [
    "d.dump_training_data(f)"
   ]
  },
  {
   "cell_type": "code",
   "execution_count": null,
   "id": "b3cdf986",
   "metadata": {},
   "outputs": [],
   "source": []
  }
 ],
 "metadata": {
  "kernelspec": {
   "display_name": "Python 3 (ipykernel)",
   "language": "python",
   "name": "python3"
  },
  "language_info": {
   "codemirror_mode": {
    "name": "ipython",
    "version": 3
   },
   "file_extension": ".py",
   "mimetype": "text/x-python",
   "name": "python",
   "nbconvert_exporter": "python",
   "pygments_lexer": "ipython3",
   "version": "3.9.7"
  }
 },
 "nbformat": 4,
 "nbformat_minor": 5
}
