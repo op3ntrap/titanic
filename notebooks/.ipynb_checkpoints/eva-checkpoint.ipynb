{
 "cells": [
  {
   "cell_type": "code",
   "execution_count": 2,
   "metadata": {},
   "outputs": [],
   "source": [
    "import pandas as pd\n",
    "import joblib\n"
   ]
  },
  {
   "cell_type": "markdown",
   "metadata": {},
   "source": []
  },
  {
   "cell_type": "code",
   "execution_count": 3,
   "metadata": {
    "pycharm": {
     "name": "#%%\n"
    }
   },
   "outputs": [],
   "source": [
    "path = 'C:/Users/risan/PycharmProjects/scientificProject/outputs'\n",
    "# x_train = joblib.load(path+'/train_age')\n",
    "# y_train = joblib.load(path+'/y_train')\n",
    "# x_test = joblib.load(path+'/x_test')\n",
    "# y_test = joblib.load(path+'/y_test')\n",
    "train = joblib.load(path+'/master_training_data')"
   ]
  },
  {
   "cell_type": "code",
   "execution_count": 5,
   "metadata": {
    "pycharm": {
     "name": "#%%\n"
    }
   },
   "outputs": [
    {
     "name": "stdout",
     "output_type": "stream",
     "text": [
      "<class 'pandas.core.frame.DataFrame'>\n",
      "Int64Index: 1309 entries, 6 to 1307\n",
      "Data columns (total 13 columns):\n",
      " #   Column         Non-Null Count  Dtype  \n",
      "---  ------         --------------  -----  \n",
      " 0   Pclass         1309 non-null   int64  \n",
      " 1   Name           1309 non-null   object \n",
      " 2   Sex            1309 non-null   object \n",
      " 3   Age            1046 non-null   float64\n",
      " 4   SibSp          1309 non-null   int64  \n",
      " 5   Parch          1309 non-null   int64  \n",
      " 6   Ticket         1309 non-null   object \n",
      " 7   Fare           1308 non-null   float64\n",
      " 8   Cabin          295 non-null    object \n",
      " 9   Embarked       1309 non-null   object \n",
      " 10  salutation     1309 non-null   object \n",
      " 11  has_relatives  1309 non-null   int64  \n",
      " 12  Age_Bin        1309 non-null   float64\n",
      "dtypes: float64(3), int64(4), object(6)\n",
      "memory usage: 175.5+ KB\n"
     ]
    }
   ],
   "source": [
    "\n"
   ]
  },
  {
   "cell_type": "code",
   "execution_count": null,
   "metadata": {
    "pycharm": {
     "name": "#%%\n"
    }
   },
   "outputs": [],
   "source": []
  }
 ],
 "metadata": {
  "kernelspec": {
   "display_name": "Python 3 (ipykernel)",
   "language": "python",
   "name": "python3"
  },
  "language_info": {
   "codemirror_mode": {
    "name": "ipython",
    "version": 3
   },
   "file_extension": ".py",
   "mimetype": "text/x-python",
   "name": "python",
   "nbconvert_exporter": "python",
   "pygments_lexer": "ipython3",
   "version": "3.9.7"
  }
 },
 "nbformat": 4,
 "nbformat_minor": 1
}
