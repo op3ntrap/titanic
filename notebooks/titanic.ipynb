{
 "cells": [
  {
   "cell_type": "code",
   "execution_count": 1,
   "metadata": {},
   "outputs": [
    {
     "name": "stderr",
     "output_type": "stream",
     "text": [
      "Intel(R) Extension for Scikit-learn* enabled (https://github.com/intel/scikit-learn-intelex)\n"
     ]
    }
   ],
   "source": [
    "import numpy as np\n",
    "import pandas as pd\n",
    "from sklearnex import patch_sklearn\n",
    "\n",
    "patch_sklearn()\n",
    "from sklearn.model_selection import train_test_split, cross_validate, RandomizedSearchCV, GridSearchCV, ShuffleSplit\n",
    "from sklearn.model_selection import StratifiedShuffleSplit, train_test_split\n",
    "from sklearn.pipeline import Pipeline\n",
    "from sklearn.naive_bayes import GaussianNB,MultinomialNB,ComplementNB\n",
    "from sklearn.tree import DecisionTreeRegressor, DecisionTreeClassifier\n",
    "from sklearn.ensemble import RandomForestClassifier, RandomForestRegressor, GradientBoostingClassifier\n",
    "from sklearn.preprocessing import StandardScaler, LabelEncoder, OneHotEncoder, OrdinalEncoder, add_dummy_feature\n",
    "from sklearn.compose import ColumnTransformer\n",
    "from sklearn.metrics import mean_squared_error, mean_absolute_error\n",
    "from sklearn.impute import SimpleImputer, KNNImputer\n",
    "from dataclasses import dataclass\n",
    "# from time import sleep"
   ]
  },
  {
   "cell_type": "code",
   "execution_count": 3,
   "metadata": {
    "pycharm": {
     "name": "#%%\n"
    }
   },
   "outputs": [],
   "source": [
    "@dataclass\n",
    "class DataObject(object):\n",
    "    @staticmethod\n",
    "    def find_salutation(row):\n",
    "        if 'mr.' in row.Name:\n",
    "            row.salutation = \"MR\"\n",
    "        elif 'dr.' in row.Name:\n",
    "            row.salutation = \"DR\"\n",
    "        elif 'mrs.' in row.Name:\n",
    "            row.salutation = \"MRS\"\n",
    "        elif 'miss.' in row.Name:\n",
    "            row.salutation = \"MISS\"\n",
    "        elif 'master.' in row.Name:\n",
    "            row.salutation = \"MASTER\"\n",
    "        else:\n",
    "            row.salutation = 'NA'\n",
    "        return row\n",
    "\n",
    "    @staticmethod\n",
    "    def has_relatives(row):\n",
    "        if row.SibSp + row.Parch > 1:\n",
    "            row.has_relatives = 1\n",
    "        else:\n",
    "            row.has_relatives = 0\n",
    "        return row\n",
    "\n",
    "    training_data_path = 'C:/Users/risan/PycharmProjects/scientificProject/data/Kaggle/titanic/train.csv'\n",
    "    test_data_path = 'C:/Users/risan/PycharmProjects/scientificProject/data/Kaggle/titanic/test.csv'\n",
    "    training_data = pd.read_csv(training_data_path, index_col=0, header='infer')\n",
    "    test_data = pd.read_csv(test_data_path, index_col=0, header='infer')\n",
    "    x_train: pd.DataFrame = training_data.drop(['Survived'], axis=1)\n",
    "    y_train: pd.Series = training_data['Survived']\n",
    "    x_train.Name = x_train['Name'].map(lambda i: i.lower())\n",
    "    x_train.sort_values(by=['Name'], inplace=True)\n",
    "\n",
    "    x_train['salutation'] = None\n",
    "    x_train['has_relatives'] = 0\n",
    "    si_ = SimpleImputer(strategy='most_frequent')\n",
    "    origins = x_train.Embarked\n",
    "    origins_arr = np.array(origins).reshape(-1,1)\n",
    "    filled_origins = si_.fit_transform(origins_arr)\n",
    "    # print(filled_origins.reshape(1,-1)[0])\n",
    "    # fill\n",
    "    x_train.Embarked = pd.Series(filled_origins.reshape(1,-1)[0])\n",
    "    x_train.Embarked = x_train.Embarked.fillna(value=x_train.Embarked.mode())\n",
    "    x_train.at[891,'Embarked'] = x_train.Embarked.mode()\n",
    "    # sleep(2)\n",
    "\n",
    "\n",
    "\n",
    "\n",
    "d = DataObject()\n",
    "\n",
    "x: pd.DataFrame = d.x_train\n",
    "y: pd.Series = d.y_train\n",
    "x = x.apply(d.find_salutation,axis=1)\n",
    "x = x.apply(d.has_relatives, axis=1)\n",
    "#\n",
    "# def train_for_age(x, test, y, test_y):\n",
    "#     ordinal_enc = OrdinalEncoder()\n",
    "#     std_scale = StandardScaler()\n",
    "#     c_transform  = ColumnTransformer([('cat_transform', ordinal_enc, ['Embarked','Sex','salutation']),\n",
    "#                                       ('num_tranform', std_scale, ['Fare'])],remainder='passthrough')\n",
    "#     x_t = c_transform.fit_transform(x)\n",
    "#     x_t = x_t.drop(['Name','Cabin','Ticket'], axis=1)\n",
    "#     x_train, x_test, y_train, y_test = train_test_split(x_t,y,test_size=0.3,random_state=5,stratify=True)\n",
    "#\n",
    "#\n",
    "#\n",
    "# def generate_age_model(train_for_age):\n",
    "#     ordinal_enc = OrdinalEncoder()\n",
    "#     std_scale = StandardScaler()\n",
    "#     c_transform  = ColumnTransformer([('cat_transform', ordinal_enc, ['Embarked','Sex','salutation']),\n",
    "#                                       ('num_tranform', std_scale, ['Fare'])],remainder='passthrough')\n",
    "#\n",
    "#     # x_t = c_transform()\n",
    "#     x_train, x_test, y_train, y_test = train_test_split(train_for_age)\n",
    "#\n",
    "# def find_missing_age(x: pd.DataFrame, y:pd.Series):\n",
    "#     x_missing_age: pd.DataFrame = x[x.Age.isna()]\n",
    "#     x_with_age: pd.DataFrame = x[x.Age.isna()==False]\n",
    "#\n",
    "#     train_age_x, test_age_x = x_with_age.drop(['Age'], axis=1), x_missing_age.drop(['Age'], axis=1)\n",
    "#\n",
    "#     age_model = generate_age_model(train_age_x)\n",
    "#\n",
    "#\n",
    "#\n",
    "#\n",
    "#\n",
    "#\n",
    "#\n",
    "#\n",
    "\n",
    "\n"
   ]
  }
 ],
 "metadata": {
  "kernelspec": {
   "display_name": "Python 3 (ipykernel)",
   "language": "python",
   "name": "python3"
  },
  "language_info": {
   "codemirror_mode": {
    "name": "ipython",
    "version": 3
   },
   "file_extension": ".py",
   "mimetype": "text/x-python",
   "name": "python",
   "nbconvert_exporter": "python",
   "pygments_lexer": "ipython3",
   "version": "3.9.7"
  },
  "widgets": {
   "application/vnd.jupyter.widget-state+json": {
    "state": {},
    "version_major": 2,
    "version_minor": 0
   }
  }
 },
 "nbformat": 4,
 "nbformat_minor": 4
}